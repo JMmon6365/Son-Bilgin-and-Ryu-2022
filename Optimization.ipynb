{
  "nbformat": 4,
  "nbformat_minor": 0,
  "metadata": {
    "colab": {
      "name": "Optimization",
      "provenance": [],
      "machine_shape": "hm"
    },
    "kernelspec": {
      "name": "python3",
      "display_name": "Python 3"
    },
    "language_info": {
      "name": "python"
    },
    "accelerator": "TPU"
  },
  "cells": [
    {
      "cell_type": "code",
      "metadata": {
        "id": "wAIVMV0FlIxb"
      },
      "source": [
        "import numpy as np\n",
        "import sympy as sym\n",
        "import sympy"
      ],
      "execution_count": 1,
      "outputs": []
    },
    {
      "cell_type": "code",
      "metadata": {
        "id": "_6GrmzWllMfP"
      },
      "source": [
        "L,T,A,R,W,D,B,P,k=sym.symbols('L,T,A,R,W,D,B,P,k')\n",
        "Deposit, Cash, CBDC, Coin=sym.symbols('Deposit,Cash,CBDC,Coin')\n",
        "f=sym.Function('f')\n",
        "f=L*sympy.log(Cash+CBDC)+A*sympy.log(Cash+Coin)+D*sympy.log(Deposit+CBDC+Coin)+B*sympy.log(Coin)+T*CBDC+R*Deposit"
      ],
      "execution_count": 2,
      "outputs": []
    },
    {
      "cell_type": "code",
      "metadata": {
        "colab": {
          "base_uri": "https://localhost:8080/"
        },
        "id": "FfSCes5ElMhc",
        "outputId": "db22de2a-2bc5-4dc6-b2c5-965e5f1a77b7"
      },
      "source": [
        "fDepo=sym.diff(f,Deposit)\n",
        "fCash=sym.diff(f,Cash)\n",
        "fCBDC=sym.diff(f,CBDC)\n",
        "fCoin=sym.diff(f,Coin)\n",
        "print(fDepo, fCash, fCBDC, fCoin)"
      ],
      "execution_count": null,
      "outputs": [
        {
          "output_type": "stream",
          "name": "stdout",
          "text": [
            "D/(CBDC + Coin + Deposit) + R A/(Cash + Coin) + L/(CBDC + Cash) D/(CBDC + Coin + Deposit) + L/(CBDC + Cash) + T A/(Cash + Coin) + B/Coin + D/(CBDC + Coin + Deposit)\n"
          ]
        }
      ]
    },
    {
      "cell_type": "code",
      "metadata": {
        "id": "bTx5vcJ1lMj9"
      },
      "source": [
        "eq1=sym.Eq(fDepo,fCash)\n",
        "eq2=sym.Eq(fCash,fCBDC)\n",
        "eq3=sym.Eq(fCBDC,fCoin)\n",
        "eq4=sym.Eq(Deposit+Cash+CBDC+Coin,P)\n",
        "list=sym.solve([eq1,eq2,eq3,eq4],[Deposit,Cash,CBDC,Coin])\n",
        "print(list)"
      ],
      "execution_count": null,
      "outputs": []
    },
    {
      "cell_type": "code",
      "metadata": {
        "id": "Zepln4wH6swB"
      },
      "source": [
        "f=L*sympy.log(Cash+CBDC)+A*sympy.log(Cash+Coin)+D*sympy.log(Deposit+CBDC+Coin)+R*sympy.log(T*CBDC+Deposit)\n",
        "\n",
        "fDepo=sym.diff(f,Deposit)\n",
        "fCash=sym.diff(f,Cash)\n",
        "fCBDC=sym.diff(f,CBDC)\n",
        "fCoin=sym.diff(f,Coin)\n",
        "\n",
        "eq1=sym.Eq(fDepo,fCash)\n",
        "eq2=sym.Eq(fCash,fCBDC)\n",
        "eq3=sym.Eq(fCBDC,fCoin)\n",
        "eq4=sym.Eq(Deposit+Cash+CBDC+Coin,P)\n",
        "sym.solve([eq1,eq2,eq3,eq4],[Deposit,Cash,Coin,CBDC])"
      ],
      "execution_count": null,
      "outputs": []
    },
    {
      "cell_type": "code",
      "metadata": {
        "id": "m0X7bewOMXlU",
        "colab": {
          "base_uri": "https://localhost:8080/"
        },
        "outputId": "47359b25-4748-4e2e-ccc9-79d0fc5763b4"
      },
      "source": [
        "f=L*sympy.log(Cash+CBDC)+A*sympy.log(Cash+Coin)+D*sympy.log(Deposit+CBDC+Coin)+T*CBDC+R*Deposit\n",
        "\n",
        "fDepo=sym.diff(f,Deposit)\n",
        "fCash=sym.diff(f,Cash)\n",
        "fCBDC=sym.diff(f,CBDC)\n",
        "fCoin=sym.diff(f,Coin)\n",
        "\n",
        "eq1=sym.Eq(fDepo,fCash)\n",
        "eq2=sym.Eq(fCash,fCBDC)\n",
        "eq3=sym.Eq(fCBDC,fCoin)\n",
        "eq4=sym.Eq(Deposit+Cash+CBDC+Coin,P)\n",
        "sym.solve([eq1,eq2,eq3,eq4],[Deposit,Cash,Coin,CBDC])"
      ],
      "execution_count": null,
      "outputs": [
        {
          "output_type": "execute_result",
          "data": {
            "text/plain": [
              "[((-A*R + A*T - D*R - L*R + 2*P*R**2 - 2*P*R*T)/(R*(R - T)),\n",
              "  (-D + P*R - P*T)/(R - T),\n",
              "  (A*R - A*T + D*R - P*R**2 + P*R*T)/(R*(R - T)),\n",
              "  (D + L - P*R + P*T)/(R - T))]"
            ]
          },
          "metadata": {},
          "execution_count": 8
        }
      ]
    },
    {
      "cell_type": "code",
      "metadata": {
        "id": "Ii53CCmAdQX5"
      },
      "source": [
        "#CBDC가 없는 경우"
      ],
      "execution_count": null,
      "outputs": []
    },
    {
      "cell_type": "code",
      "metadata": {
        "colab": {
          "base_uri": "https://localhost:8080/"
        },
        "id": "Xi2ySamcdOAS",
        "outputId": "847bf8e5-eb47-489d-ce26-b3ecec55f12c"
      },
      "source": [
        "f=L*sympy.log(Cash)+A*sympy.log(Cash+Coin)+D*sympy.log(Deposit+Coin)+R*Deposit\n",
        "\n",
        "fDepo=sym.diff(f,Deposit)\n",
        "fCash=sym.diff(f,Cash)\n",
        "fCBDC=sym.diff(f,CBDC)\n",
        "fCoin=sym.diff(f,Coin)\n",
        "\n",
        "eq1=sym.Eq(fDepo,fCash)\n",
        "eq2=sym.Eq(fCash,fCoin)\n",
        "eq3=sym.Eq(Deposit+Cash+Coin,P)\n",
        "sym.solve([eq1,eq2,eq3],[Deposit,Cash,Coin])"
      ],
      "execution_count": null,
      "outputs": [
        {
          "output_type": "execute_result",
          "data": {
            "text/plain": [
              "[(-A/R + P, L*P/(D + L), (A*D + A*L - L*P*R)/(R*(D + L)))]"
            ]
          },
          "metadata": {},
          "execution_count": 14
        }
      ]
    },
    {
      "cell_type": "code",
      "metadata": {
        "id": "c2-4Q-n7mDkz"
      },
      "source": [
        "#CBDC가 없는 경우 Cobb - Douglas"
      ],
      "execution_count": null,
      "outputs": []
    },
    {
      "cell_type": "code",
      "metadata": {
        "colab": {
          "base_uri": "https://localhost:8080/"
        },
        "id": "HUbR5YXPmGoL",
        "outputId": "2ab6f0a7-ea12-453c-ebf9-c7c77af3120b"
      },
      "source": [
        "f=L*sympy.log(Cash)+A*sympy.log(Cash+Coin)+D*sympy.log(Deposit+Coin)+R*sympy.log(Deposit)\n",
        "\n",
        "fDepo=sym.diff(f,Deposit)\n",
        "fCash=sym.diff(f,Cash)\n",
        "fCoin=sym.diff(f,Coin)\n",
        "\n",
        "eq1=sym.Eq(fDepo,fCash)\n",
        "eq2=sym.Eq(fCash,fCoin)\n",
        "eq3=sym.Eq(Deposit+Cash+Coin,P)\n",
        "sym.solve([eq1,eq2,eq3],[Deposit,Cash,Coin])"
      ],
      "execution_count": null,
      "outputs": [
        {
          "output_type": "execute_result",
          "data": {
            "text/plain": [
              "[(P*R/(A + R), L*P/(D + L), P*(A*D - L*R)/((A + R)*(D + L)))]"
            ]
          },
          "metadata": {},
          "execution_count": 32
        }
      ]
    },
    {
      "cell_type": "code",
      "metadata": {
        "id": "Fzd1UpxWdODf"
      },
      "source": [
        "#Coin에 anonymity가 없는 경우 => Coin은 Deposit에 비해 열등한 재화가 됨."
      ],
      "execution_count": null,
      "outputs": []
    },
    {
      "cell_type": "code",
      "metadata": {
        "colab": {
          "base_uri": "https://localhost:8080/"
        },
        "id": "_VZAmki0fXyz",
        "outputId": "a33c6a82-0f17-4cdc-e0ee-10dd1d636ac6"
      },
      "source": [
        "f=L*sympy.log(Cash+CBDC)+A*sympy.log(Cash)+D*sympy.log(Deposit+CBDC)+T*CBDC+R*Deposit\n",
        "\n",
        "fDepo=sym.diff(f,Deposit)\n",
        "fCash=sym.diff(f,Cash)\n",
        "fCBDC=sym.diff(f,CBDC)\n",
        "\n",
        "eq1=sym.Eq(fDepo,fCash)\n",
        "eq2=sym.Eq(fCash,fCBDC)\n",
        "eq4=sym.Eq(Deposit+Cash+CBDC,P)\n",
        "sym.solve([eq1,eq2,eq4],[Deposit,Cash,CBDC])"
      ],
      "execution_count": null,
      "outputs": [
        {
          "output_type": "execute_result",
          "data": {
            "text/plain": [
              "[((-L + P*R - P*T)/(R - T),\n",
              "  (A + D + P*T - sqrt(A**2 + 2*A*D - 2*A*P*T + D**2 + 2*D*P*T + P**2*T**2))/(2*T),\n",
              "  ((R - T)**3*sqrt(A**2 + 2*A*D - 2*A*P*T + D**2 + 2*D*P*T + P**2*T**2) + (R**2 - 2*R*T + T**2)*(-A*R + A*T - D*R + D*T + 2*L*T - P*R*T + P*T**2))/(2*T*(R - T)*(R**2 - 2*R*T + T**2))),\n",
              " ((-L + P*R - P*T)/(R - T),\n",
              "  (A + D + P*T + sqrt(A**2 + 2*A*D - 2*A*P*T + D**2 + 2*D*P*T + P**2*T**2))/(2*T),\n",
              "  (-(R - T)**3*sqrt(A**2 + 2*A*D - 2*A*P*T + D**2 + 2*D*P*T + P**2*T**2) + (R**2 - 2*R*T + T**2)*(-A*R + A*T - D*R + D*T + 2*L*T - P*R*T + P*T**2))/(2*T*(R - T)*(R**2 - 2*R*T + T**2)))]"
            ]
          },
          "metadata": {},
          "execution_count": 22
        }
      ]
    },
    {
      "cell_type": "code",
      "metadata": {
        "id": "D_ksnRPuiyZz"
      },
      "source": [
        "#Cash가 모두 CBDC로 대체될 경우"
      ],
      "execution_count": null,
      "outputs": []
    },
    {
      "cell_type": "code",
      "metadata": {
        "colab": {
          "base_uri": "https://localhost:8080/"
        },
        "id": "LX7tX55UhXmU",
        "outputId": "65f00ec4-4b51-4113-dbed-d76f04f16328"
      },
      "source": [
        "f=L*sympy.log(CBDC)+A*sympy.log(Coin)+D*sympy.log(Deposit+CBDC+Coin)+T*CBDC+R*Deposit\n",
        "\n",
        "fDepo=sym.diff(f,Deposit)\n",
        "fCBDC=sym.diff(f,CBDC)\n",
        "fCoin=sym.diff(f,Coin)\n",
        "\n",
        "eq1=sym.Eq(fDepo,fCBDC)\n",
        "eq2=sym.Eq(fCBDC,fCoin)\n",
        "eq3=sym.Eq(Deposit+CBDC+Coin,P)\n",
        "sym.solve([eq1,eq2,eq3],[Deposit,Coin,CBDC])"
      ],
      "execution_count": null,
      "outputs": [
        {
          "output_type": "execute_result",
          "data": {
            "text/plain": [
              "[((-A*R + A*T - L*R + P*R**2 - P*R*T)/(R*(R - T)), A/R, L/(R - T))]"
            ]
          },
          "metadata": {},
          "execution_count": 23
        }
      ]
    },
    {
      "cell_type": "code",
      "metadata": {
        "id": "MRjnndBQlPok"
      },
      "source": [
        "#CBDC와 코인 모두 존재 X "
      ],
      "execution_count": null,
      "outputs": []
    },
    {
      "cell_type": "code",
      "metadata": {
        "colab": {
          "base_uri": "https://localhost:8080/"
        },
        "id": "NYwULofQlRbb",
        "outputId": "ec21fb73-cbd5-4b06-b6d1-70d912efd4fc"
      },
      "source": [
        "f=L*sympy.log(Cash)+A*sympy.log(Cash)+D*sympy.log(Deposit)+R*sympy.log(Deposit)\n",
        "\n",
        "fDepo=sym.diff(f,Deposit)\n",
        "fCash=sym.diff(f,Cash)\n",
        "\n",
        "eq1=sym.Eq(fDepo,fCash)\n",
        "eq2=sym.Eq(Deposit+Cash,P)\n",
        "sym.solve([eq1,eq2],[Deposit,Cash])"
      ],
      "execution_count": null,
      "outputs": [
        {
          "output_type": "execute_result",
          "data": {
            "text/plain": [
              "{Cash: P*(A + L)/(A + D + L + R), Deposit: P*(D + R)/(A + D + L + R)}"
            ]
          },
          "metadata": {},
          "execution_count": 29
        }
      ]
    },
    {
      "cell_type": "markdown",
      "metadata": {
        "id": "OAyzzavegNKB"
      },
      "source": [
        ""
      ]
    }
  ]
}